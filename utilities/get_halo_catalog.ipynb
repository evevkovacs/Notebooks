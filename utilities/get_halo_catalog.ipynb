{
 "cells": [
  {
   "cell_type": "code",
   "execution_count": 6,
   "metadata": {},
   "outputs": [],
   "source": [
    "import sys\n",
    "\n",
    "sys.path.insert(0, '/global/common/cori/contrib/lsst/apps/anaconda/py3-envs/DESCQA/lib/python3.6/site-packages')\n",
    "import GCRCatalogs\n",
    "gc = GCRCatalogs.load_catalog('protoDC2')\n",
    "from GCR import GCRQuery\n",
    "import numpy as np\n",
    "from descqa.plotting import plt\n",
    "%matplotlib inline\n",
    "from descqa import BaseValidationTest, TestResult"
   ]
  },
  {
   "cell_type": "code",
   "execution_count": 7,
   "metadata": {},
   "outputs": [],
   "source": [
    "#get host halos\n",
    "halo_data = gc.get_quantities(['hostIndex', 'hostHaloMass','is_central'],filters=['is_central'])\n",
    "            "
   ]
  },
  {
   "cell_type": "code",
   "execution_count": 8,
   "metadata": {},
   "outputs": [
    {
     "name": "stdout",
     "output_type": "stream",
     "text": [
      "4041738\n",
      "4041738\n"
     ]
    }
   ],
   "source": [
    "#check that all expected lengths match\n",
    "print((halo_data['is_central']==True).sum())\n",
    "print(len(halo_data['is_central']))\n"
   ]
  },
  {
   "cell_type": "code",
   "execution_count": 9,
   "metadata": {},
   "outputs": [],
   "source": [
    "#get galaxy positions and halo infall masses for these halos\n",
    "galaxy_data = gc.get_quantities(['galaxyID', 'is_central', 'hostIndex', 'infallHaloMass', 'x', 'y', 'z', 'vx', 'vy', 'vz'])"
   ]
  },
  {
   "cell_type": "code",
   "execution_count": 10,
   "metadata": {},
   "outputs": [
    {
     "name": "stdout",
     "output_type": "stream",
     "text": [
      "10022496\n"
     ]
    }
   ],
   "source": [
    "print(len(galaxy_data['galaxyID']))"
   ]
  },
  {
   "cell_type": "code",
   "execution_count": 11,
   "metadata": {},
   "outputs": [
    {
     "name": "stdout",
     "output_type": "stream",
     "text": [
      "25.0\n",
      "FlatLambdaCDM(H0=71 km / (Mpc s), Om0=0.265, Tcmb0=0 K, Neff=3.04, m_nu=None, Ob0=0.0448)\n"
     ]
    },
    {
     "data": {
      "text/plain": [
       "'0.6.9'"
      ]
     },
     "execution_count": 11,
     "metadata": {},
     "output_type": "execute_result"
    }
   ],
   "source": [
    "print(gc.sky_area)\n",
    "print(gc.cosmology)\n",
    "GCRCatalogs.__version__\n",
    "\n",
    "\n"
   ]
  },
  {
   "cell_type": "code",
   "execution_count": 12,
   "metadata": {},
   "outputs": [
    {
     "data": {
      "text/plain": [
       "(array([ 5334756.,  2159213.,  1061928.,   626125.,   379585.,   225948.,\n",
       "          130037.,    68283.,    29419.,     7202.]),\n",
       " array([  1.41598999e-11,   8.94809050e-03,   1.78961810e-02,\n",
       "          2.68442715e-02,   3.57923620e-02,   4.47404524e-02,\n",
       "          5.36885429e-02,   6.26366334e-02,   7.15847239e-02,\n",
       "          8.05328144e-02,   8.94809049e-02]),\n",
       " <a list of 10 Patch objects>)"
      ]
     },
     "execution_count": 12,
     "metadata": {},
     "output_type": "execute_result"
    },
    {
     "data": {
      "image/png": "[encoded data removed]",
      "text/plain": [
       "<matplotlib.figure.Figure at 0x2aaba3b21128>"
      ]
     },
     "metadata": {},
     "output_type": "display_data"
    }
   ],
   "source": [
    "edata = gc.get_quantities(['ellipticity_1', 'ellipticity_2'])\n",
    "fig, ax = plt.subplots(1,2)\n",
    "ax[0].hist(edata['ellipticity_1'])\n",
    "ax[1].hist(edata['ellipticity_2'])"
   ]
  },
  {
   "cell_type": "code",
   "execution_count": 13,
   "metadata": {},
   "outputs": [
    {
     "data": {
      "text/plain": [
       "(array([ 5334756.,  2159213.,  1061928.,   626125.,   379585.,   225948.,\n",
       "          130037.,    68283.,    29419.,     7202.]),\n",
       " array([  1.41598999e-11,   8.94809050e-03,   1.78961810e-02,\n",
       "          2.68442715e-02,   3.57923620e-02,   4.47404524e-02,\n",
       "          5.36885429e-02,   6.26366334e-02,   7.15847239e-02,\n",
       "          8.05328144e-02,   8.94809049e-02]),\n",
       " <a list of 10 Patch objects>)"
      ]
     },
     "execution_count": 13,
     "metadata": {},
     "output_type": "execute_result"
    },
    {
     "data": {
      "image/png": "[encoded data removed]",
      "text/plain": [
       "<matplotlib.figure.Figure at 0x2aab869a6dd8>"
      ]
     },
     "metadata": {},
     "output_type": "display_data"
    }
   ],
   "source": [
    "edata = gc.get_quantities(['morphology/totalEllipticity1','morphology/totalEllipticity2'])\n",
    "fig, ax = plt.subplots(1,2)\n",
    "ax[0].hist(edata['morphology/totalEllipticity1'])\n",
    "ax[1].hist(edata['morphology/totalEllipticity2'])"
   ]
  },
  {
   "cell_type": "code",
   "execution_count": 16,
   "metadata": {},
   "outputs": [
    {
     "name": "stdout",
     "output_type": "stream",
     "text": [
      "dict_keys(['redshift_true', 'stellar_mass'])\n",
      "17428284\n"
     ]
    }
   ],
   "source": [
    "dc1 = GCRCatalogs.load_catalog('dc1')\n",
    "mdata = dc1.get_quantities(['stellar_mass','redshift_true'])\n",
    "print(mdata.keys())\n",
    "print(len(mdata['redshift_true']))"
   ]
  },
  {
   "cell_type": "code",
   "execution_count": null,
   "metadata": {},
   "outputs": [],
   "source": [
    "mask = mdata['redshift_true']>0.2 & mdata['redshift_true']<0.3\n",
    "M = mdata['stellar_mass'][mask]\n",
    "Mbins = np.logspace(8., 12., 26)\n",
    "N,_ = np.histogram(M, bins=Mbins)\n",
    "print(N.sum())"
   ]
  }
 ],
 "metadata": {
  "kernelspec": {
   "display_name": "Python [default]",
   "language": "python",
   "name": "python3"
  },
  "language_info": {
   "codemirror_mode": {
    "name": "ipython",
    "version": 3
   },
   "file_extension": ".py",
   "mimetype": "text/x-python",
   "name": "python",
   "nbconvert_exporter": "python",
   "pygments_lexer": "ipython3",
   "version": "3.6.1"
  }
 },
 "nbformat": 4,
 "nbformat_minor": 2
}
